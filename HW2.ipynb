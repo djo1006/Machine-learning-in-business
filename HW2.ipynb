{
  "nbformat": 4,
  "nbformat_minor": 0,
  "metadata": {
    "kernelspec": {
      "display_name": "Python 3",
      "language": "python",
      "name": "python3"
    },
    "language_info": {
      "codemirror_mode": {
        "name": "ipython",
        "version": 3
      },
      "file_extension": ".py",
      "mimetype": "text/x-python",
      "name": "python",
      "nbconvert_exporter": "python",
      "pygments_lexer": "ipython3",
      "version": "3.7.3"
    },
    "colab": {
      "name": "HW2.ipynb",
      "provenance": [],
      "toc_visible": true
    }
  },
  "cells": [
    {
      "cell_type": "markdown",
      "metadata": {
        "id": "rGTG-8uaq8On"
      },
      "source": [
        "### Урок 2. #Профилирование пользователей. Сегментация аудитории: unsupervised learning (clustering, LDA/ARTM), supervised (multi/binary classification)#"
      ]
    },
    {
      "cell_type": "code",
      "metadata": {
        "colab": {
          "base_uri": "https://localhost:8080/"
        },
        "id": "lWdFWLsCrAfA",
        "outputId": "f10a69d0-8cb4-4bf8-ff02-b8910ca15483"
      },
      "source": [
        "from google.colab import drive\n",
        "drive.mount('/content/drive')"
      ],
      "execution_count": 140,
      "outputs": [
        {
          "output_type": "stream",
          "text": [
            "Drive already mounted at /content/drive; to attempt to forcibly remount, call drive.mount(\"/content/drive\", force_remount=True).\n"
          ],
          "name": "stdout"
        }
      ]
    },
    {
      "cell_type": "markdown",
      "metadata": {
        "id": "yqrJCszgq8PD"
      },
      "source": [
        "### Переходим к практике"
      ]
    },
    {
      "cell_type": "code",
      "metadata": {
        "id": "reQVyCTBq8PD"
      },
      "source": [
        "import pandas as pd"
      ],
      "execution_count": 141,
      "outputs": []
    },
    {
      "cell_type": "markdown",
      "metadata": {
        "id": "0-A7a_HPq8PE"
      },
      "source": [
        "Наши новости"
      ]
    },
    {
      "cell_type": "code",
      "metadata": {
        "id": "yaIIynNHq8PE",
        "colab": {
          "base_uri": "https://localhost:8080/",
          "height": 159
        },
        "outputId": "dc58690e-a272-4dbc-80fa-f8a689fb21ed"
      },
      "source": [
        "news = pd.read_csv(\"/content/drive/MyDrive/Colab Notebooks/GB/Machine-learning-in-business/lesson_2/articles.csv\")\n",
        "print(news.shape)\n",
        "news.head(3)"
      ],
      "execution_count": 142,
      "outputs": [
        {
          "output_type": "stream",
          "text": [
            "(27000, 2)\n"
          ],
          "name": "stdout"
        },
        {
          "output_type": "execute_result",
          "data": {
            "text/html": [
              "<div>\n",
              "<style scoped>\n",
              "    .dataframe tbody tr th:only-of-type {\n",
              "        vertical-align: middle;\n",
              "    }\n",
              "\n",
              "    .dataframe tbody tr th {\n",
              "        vertical-align: top;\n",
              "    }\n",
              "\n",
              "    .dataframe thead th {\n",
              "        text-align: right;\n",
              "    }\n",
              "</style>\n",
              "<table border=\"1\" class=\"dataframe\">\n",
              "  <thead>\n",
              "    <tr style=\"text-align: right;\">\n",
              "      <th></th>\n",
              "      <th>doc_id</th>\n",
              "      <th>title</th>\n",
              "    </tr>\n",
              "  </thead>\n",
              "  <tbody>\n",
              "    <tr>\n",
              "      <th>0</th>\n",
              "      <td>6</td>\n",
              "      <td>Заместитель председателяnправительства РФnСерг...</td>\n",
              "    </tr>\n",
              "    <tr>\n",
              "      <th>1</th>\n",
              "      <td>4896</td>\n",
              "      <td>Матч 1/16 финала Кубка России по футболу был п...</td>\n",
              "    </tr>\n",
              "    <tr>\n",
              "      <th>2</th>\n",
              "      <td>4897</td>\n",
              "      <td>Форвард «Авангарда» Томаш Заборский прокоммент...</td>\n",
              "    </tr>\n",
              "  </tbody>\n",
              "</table>\n",
              "</div>"
            ],
            "text/plain": [
              "   doc_id                                              title\n",
              "0       6  Заместитель председателяnправительства РФnСерг...\n",
              "1    4896  Матч 1/16 финала Кубка России по футболу был п...\n",
              "2    4897  Форвард «Авангарда» Томаш Заборский прокоммент..."
            ]
          },
          "metadata": {
            "tags": []
          },
          "execution_count": 142
        }
      ]
    },
    {
      "cell_type": "code",
      "metadata": {
        "id": "DnL4QNcvq8PF"
      },
      "source": [
        ""
      ],
      "execution_count": 142,
      "outputs": []
    },
    {
      "cell_type": "markdown",
      "metadata": {
        "id": "NiWFsDVVq8PG"
      },
      "source": [
        "Загрузим пользователей и списки последних прочитанных новостей"
      ]
    },
    {
      "cell_type": "code",
      "metadata": {
        "id": "2IFMDpoOq8PG",
        "colab": {
          "base_uri": "https://localhost:8080/",
          "height": 142
        },
        "outputId": "f2b6b5bd-e3dd-4816-c199-5feaf2a9d6e1"
      },
      "source": [
        "users = pd.read_csv(\"/content/drive/MyDrive/Colab Notebooks/GB/Machine-learning-in-business/lesson_2/users_articles.csv\")\n",
        "users.head(3)"
      ],
      "execution_count": 143,
      "outputs": [
        {
          "output_type": "execute_result",
          "data": {
            "text/html": [
              "<div>\n",
              "<style scoped>\n",
              "    .dataframe tbody tr th:only-of-type {\n",
              "        vertical-align: middle;\n",
              "    }\n",
              "\n",
              "    .dataframe tbody tr th {\n",
              "        vertical-align: top;\n",
              "    }\n",
              "\n",
              "    .dataframe thead th {\n",
              "        text-align: right;\n",
              "    }\n",
              "</style>\n",
              "<table border=\"1\" class=\"dataframe\">\n",
              "  <thead>\n",
              "    <tr style=\"text-align: right;\">\n",
              "      <th></th>\n",
              "      <th>uid</th>\n",
              "      <th>articles</th>\n",
              "    </tr>\n",
              "  </thead>\n",
              "  <tbody>\n",
              "    <tr>\n",
              "      <th>0</th>\n",
              "      <td>u105138</td>\n",
              "      <td>[293672, 293328, 293001, 293622, 293126, 1852]</td>\n",
              "    </tr>\n",
              "    <tr>\n",
              "      <th>1</th>\n",
              "      <td>u108690</td>\n",
              "      <td>[3405, 1739, 2972, 1158, 1599, 322665]</td>\n",
              "    </tr>\n",
              "    <tr>\n",
              "      <th>2</th>\n",
              "      <td>u108339</td>\n",
              "      <td>[1845, 2009, 2356, 1424, 2939, 323389]</td>\n",
              "    </tr>\n",
              "  </tbody>\n",
              "</table>\n",
              "</div>"
            ],
            "text/plain": [
              "       uid                                        articles\n",
              "0  u105138  [293672, 293328, 293001, 293622, 293126, 1852]\n",
              "1  u108690          [3405, 1739, 2972, 1158, 1599, 322665]\n",
              "2  u108339          [1845, 2009, 2356, 1424, 2939, 323389]"
            ]
          },
          "metadata": {
            "tags": []
          },
          "execution_count": 143
        }
      ]
    },
    {
      "cell_type": "markdown",
      "metadata": {
        "id": "mcX9PtEsq8PG"
      },
      "source": [
        "Итак, нам нужно получить векторные представления пользователей на основе прочитанным ими новостей и самих новостей"
      ]
    },
    {
      "cell_type": "markdown",
      "metadata": {
        "id": "TZSdXArmq8PH"
      },
      "source": [
        "### 1. Получаем векторные представления новостей"
      ]
    },
    {
      "cell_type": "code",
      "metadata": {
        "id": "ahfgkKUYq8PH"
      },
      "source": [
        "#from gensim.test.utils import common_texts\n",
        "from gensim.corpora.dictionary import Dictionary"
      ],
      "execution_count": 144,
      "outputs": []
    },
    {
      "cell_type": "code",
      "metadata": {
        "colab": {
          "base_uri": "https://localhost:8080/"
        },
        "id": "mirulYjO3A3G",
        "outputId": "11ba55d6-3151-4fe7-f95e-ac27111edd61"
      },
      "source": [
        "# %pip install razdel\n",
        "# %pip install pymorphy2\n",
        "import nltk\n",
        "nltk.download('stopwords')"
      ],
      "execution_count": 145,
      "outputs": [
        {
          "output_type": "stream",
          "text": [
            "[nltk_data] Downloading package stopwords to /root/nltk_data...\n",
            "[nltk_data]   Package stopwords is already up-to-date!\n"
          ],
          "name": "stdout"
        },
        {
          "output_type": "execute_result",
          "data": {
            "text/plain": [
              "True"
            ]
          },
          "metadata": {
            "tags": []
          },
          "execution_count": 145
        }
      ]
    },
    {
      "cell_type": "code",
      "metadata": {
        "id": "conHWMv3q8PH"
      },
      "source": [
        "#предобработка текстов\n",
        "import re\n",
        "import numpy as np\n",
        "from nltk.corpus import stopwords\n",
        "#from nltk.tokenize import word_tokenize\n",
        "\n",
        "from razdel import tokenize # https://github.com/natasha/razdel\n",
        "#!pip install razdel\n",
        "\n",
        "import pymorphy2  # pip install pymorphy2"
      ],
      "execution_count": 146,
      "outputs": []
    },
    {
      "cell_type": "code",
      "metadata": {
        "id": "mQE93kmNq8PI"
      },
      "source": [
        "stopword_ru = stopwords.words('russian')\n",
        "len(stopword_ru)\n",
        "\n",
        "morph = pymorphy2.MorphAnalyzer()"
      ],
      "execution_count": 147,
      "outputs": []
    },
    {
      "cell_type": "code",
      "metadata": {
        "id": "6EQAfmqTq8PI",
        "colab": {
          "base_uri": "https://localhost:8080/"
        },
        "outputId": "dd924e3e-0a89-4fb2-fc92-b35a5d57e0e4"
      },
      "source": [
        "with open('/content/drive/MyDrive/Colab Notebooks/GB/Machine-learning-in-business/lesson_2/stopwords.txt', \"r\") as f:\n",
        "    additional_stopwords = [w.strip() for w in f.readlines() if w]\n",
        "stopword_ru += additional_stopwords\n",
        "len(stopword_ru)"
      ],
      "execution_count": 148,
      "outputs": [
        {
          "output_type": "execute_result",
          "data": {
            "text/plain": [
              "776"
            ]
          },
          "metadata": {
            "tags": []
          },
          "execution_count": 148
        }
      ]
    },
    {
      "cell_type": "code",
      "metadata": {
        "id": "kucxy2n8q8PI"
      },
      "source": [
        "def clean_text(text):\n",
        "    '''\n",
        "    очистка текста\n",
        "    \n",
        "    на выходе очищеный текст\n",
        "    \n",
        "    '''\n",
        "    if not isinstance(text, str):\n",
        "        text = str(text)\n",
        "    \n",
        "    text = text.lower()\n",
        "    text = text.strip('\\n').strip('\\r').strip('\\t')\n",
        "    text = re.sub(\"-\\s\\r\\n\\|-\\s\\r\\n|\\r\\n\", '', str(text))\n",
        "\n",
        "    text = re.sub(\"[0-9]|[-—.,:;_%©«»?*!@#№$^•·&()]|[+=]|[[]|[]]|[/]|\", '', text)\n",
        "    text = re.sub(r\"\\r\\n\\t|\\n|\\\\s|\\r\\t|\\\\n\", ' ', text)\n",
        "    text = re.sub(r'[\\xad]|[\\s+]', ' ', text.strip())\n",
        "    \n",
        "    #tokens = list(tokenize(text))\n",
        "    #words = [_.text for _ in tokens]\n",
        "    #words = [w for w in words if w not in stopword_ru]\n",
        "    \n",
        "    #return \" \".join(words)\n",
        "    return text\n",
        "\n",
        "cache = {}\n",
        "\n",
        "def lemmatization(text):\n",
        "    '''\n",
        "    лемматизация\n",
        "        [0] если зашел тип не `str` делаем его `str`\n",
        "        [1] токенизация предложения через razdel\n",
        "        [2] проверка есть ли в начале слова '-'\n",
        "        [3] проверка токена с одного символа\n",
        "        [4] проверка есть ли данное слово в кэше\n",
        "        [5] лемматизация слова\n",
        "        [6] проверка на стоп-слова\n",
        "\n",
        "    на выходе лист отлемматизированых токенов\n",
        "    '''\n",
        "\n",
        "    # [0]\n",
        "    if not isinstance(text, str):\n",
        "        text = str(text)\n",
        "    \n",
        "    # [1]\n",
        "    tokens = list(tokenize(text))\n",
        "    words = [_.text for _ in tokens]\n",
        "\n",
        "    words_lem = []\n",
        "    for w in words:\n",
        "        if w[0] == '-': # [2]\n",
        "            w = w[1:]\n",
        "        if len(w)>1: # [3]\n",
        "            if w in cache: # [4]\n",
        "                words_lem.append(cache[w])\n",
        "            else: # [5]\n",
        "                temp_cach = cache[w] = morph.parse(w)[0].normal_form\n",
        "                words_lem.append(temp_cach)\n",
        "    \n",
        "    words_lem_without_stopwords=[i for i in words_lem if not i in stopword_ru] # [6]\n",
        "    \n",
        "    return words_lem_without_stopwords"
      ],
      "execution_count": 149,
      "outputs": []
    },
    {
      "cell_type": "code",
      "metadata": {
        "scrolled": true,
        "id": "ZjizcZb0q8PK",
        "colab": {
          "base_uri": "https://localhost:8080/"
        },
        "outputId": "796bc476-1815-492c-c420-9a5055b6842e"
      },
      "source": [
        "%%time\n",
        "#Запускаем очистку текста. Будет долго...\n",
        "news['title'] = news['title'].apply(lambda x: clean_text(x), 1)"
      ],
      "execution_count": 150,
      "outputs": [
        {
          "output_type": "stream",
          "text": [
            "CPU times: user 27.6 s, sys: 487 ms, total: 28.1 s\n",
            "Wall time: 28.1 s\n"
          ],
          "name": "stdout"
        }
      ]
    },
    {
      "cell_type": "code",
      "metadata": {
        "id": "kY_rKZKBq8PL",
        "colab": {
          "base_uri": "https://localhost:8080/"
        },
        "outputId": "70db547b-7f95-4f6a-c5a2-7254db1445ab"
      },
      "source": [
        "%%time\n",
        "#Запускаем лемматизацию текста. Будет очень долго...\n",
        "news['title'] = news['title'].apply(lambda x: lemmatization(x), 1)"
      ],
      "execution_count": 151,
      "outputs": [
        {
          "output_type": "stream",
          "text": [
            "CPU times: user 4min 47s, sys: 990 ms, total: 4min 48s\n",
            "Wall time: 4min 48s\n"
          ],
          "name": "stdout"
        }
      ]
    },
    {
      "cell_type": "markdown",
      "metadata": {
        "id": "XMSPwAl6q8PM"
      },
      "source": [
        "А теперь в 3 строчки обучим нашу модель"
      ]
    },
    {
      "cell_type": "code",
      "metadata": {
        "id": "IVd_rfe-q8PM"
      },
      "source": [
        "#сформируем список наших текстов, разбив еще и на пробелы\n",
        "texts = [t for t in news['title'].values]\n",
        "\n",
        "# Create a corpus from a list of texts\n",
        "common_dictionary = Dictionary(texts)\n",
        "common_corpus = [common_dictionary.doc2bow(text) for text in texts]"
      ],
      "execution_count": 152,
      "outputs": []
    },
    {
      "cell_type": "markdown",
      "metadata": {
        "id": "U5_VbCpDq8PN"
      },
      "source": [
        "Что такое common_dictionary и как он выглядит"
      ]
    },
    {
      "cell_type": "code",
      "metadata": {
        "id": "GAKCvyJQq8PN",
        "colab": {
          "base_uri": "https://localhost:8080/",
          "height": 35
        },
        "outputId": "368a4101-6e37-43ee-890b-817b2eaad81b"
      },
      "source": [
        "common_dictionary[10]"
      ],
      "execution_count": 153,
      "outputs": [
        {
          "output_type": "execute_result",
          "data": {
            "application/vnd.google.colaboratory.intrinsic+json": {
              "type": "string"
            },
            "text/plain": [
              "'ватутин'"
            ]
          },
          "metadata": {
            "tags": []
          },
          "execution_count": 153
        }
      ]
    },
    {
      "cell_type": "markdown",
      "metadata": {
        "id": "kUggYuF9q8PN"
      },
      "source": [
        "Все просто - это словарь наших слов"
      ]
    },
    {
      "cell_type": "markdown",
      "metadata": {
        "id": "2zo-JyAlq8PO"
      },
      "source": [
        "Запускаем обучение"
      ]
    },
    {
      "cell_type": "code",
      "metadata": {
        "id": "kHMitRB2q8PO",
        "colab": {
          "base_uri": "https://localhost:8080/"
        },
        "outputId": "2c879806-7010-4c56-c1bc-a6490d0587c2"
      },
      "source": [
        "%%time\n",
        "from gensim.models import LdaModel\n",
        "# Train the model on the corpus.\n",
        "lda = LdaModel(common_corpus, num_topics=25, id2word=common_dictionary)#, passes=10)"
      ],
      "execution_count": 154,
      "outputs": [
        {
          "output_type": "stream",
          "text": [
            "CPU times: user 59.8 s, sys: 30.5 s, total: 1min 30s\n",
            "Wall time: 56.9 s\n"
          ],
          "name": "stdout"
        }
      ]
    },
    {
      "cell_type": "code",
      "metadata": {
        "id": "UPXlRPTcq8PO"
      },
      "source": [
        "from gensim.test.utils import datapath\n",
        "# Save model to disk.\n",
        "temp_file = datapath(\"model.lda\")\n",
        "lda.save(temp_file)\n",
        "\n",
        "# Load a potentially pretrained model from disk.\n",
        "lda = LdaModel.load(temp_file)"
      ],
      "execution_count": 155,
      "outputs": []
    },
    {
      "cell_type": "markdown",
      "metadata": {
        "id": "XzmhNidoq8PO"
      },
      "source": [
        "Обучили модель. Теперь 2 вопроса:\n",
        "\n",
        "1. как выглядят наши темы\n",
        "2. как получить для документа вектор значений (вероятности принадлежности каждой теме)"
      ]
    },
    {
      "cell_type": "code",
      "metadata": {
        "id": "jOUL2w5Iq8PP",
        "colab": {
          "base_uri": "https://localhost:8080/"
        },
        "outputId": "34eb490a-f750-4c86-c151-0c99fc40c4c0"
      },
      "source": [
        "# Create a new corpus, made of previously unseen documents.\n",
        "other_texts = [t for t in news['title'].iloc[:3]]\n",
        "other_corpus = [common_dictionary.doc2bow(text) for text in other_texts]\n",
        "\n",
        "unseen_doc = other_corpus[2]\n",
        "print(other_texts[2])\n",
        "lda[unseen_doc] "
      ],
      "execution_count": 212,
      "outputs": [
        {
          "output_type": "stream",
          "text": [
            "['форвард', 'авангард', 'томаш', 'заборский', 'прокомментировать', 'игра', 'команда', 'матч', 'чемпионат', 'кхл', 'против', 'атланта', 'nnnn', 'плохой', 'матч', 'нижний', 'новгород', 'против', 'торпедо', 'настраиваться', 'первый', 'минута', 'включиться', 'заборский', 'получиться', 'забросить', 'быстрый', 'гол', 'задать', 'хороший', 'темп', 'поединок', 'играть', 'хороший', 'сторона', 'пять', 'очко', 'выезд', 'девять', 'хороший']\n"
          ],
          "name": "stdout"
        },
        {
          "output_type": "execute_result",
          "data": {
            "text/plain": [
              "[(5, 0.04217566), (10, 0.77673405), (13, 0.029536102), (20, 0.13106637)]"
            ]
          },
          "metadata": {
            "tags": []
          },
          "execution_count": 212
        }
      ]
    },
    {
      "cell_type": "code",
      "metadata": {
        "id": "d23Kwnz8q8PP",
        "colab": {
          "base_uri": "https://localhost:8080/"
        },
        "outputId": "c8c334f8-b9b4-4408-9564-9a789d080741"
      },
      "source": [
        "x=lda.show_topics(num_topics=25, num_words=7,formatted=False)\n",
        "topics_words = [(tp[0], [wd[0] for wd in tp[1]]) for tp in x]\n",
        "\n",
        "#Below Code Prints Only Words \n",
        "for topic,words in topics_words:\n",
        "    print(\"topic_{}: \".format(topic)+\" \".join(words))"
      ],
      "execution_count": 213,
      "outputs": [
        {
          "output_type": "stream",
          "text": [
            "topic_0: украина газ украинский киев миссия ступень разместить\n",
            "topic_1: поверхность ресурс рейс производить опубликовать оплата участок\n",
            "topic_2: корабль крым животное смерть день море чёрный\n",
            "topic_3: всё наука университет очень статья жизнь проблема\n",
            "topic_4: египет алкоголь страдать медицина офицер биолог ремонт\n",
            "topic_5: nn луна место мкс рейтинг астронавт опухоль\n",
            "topic_6: рост рынок цена проект млн снижение составить\n",
            "topic_7: военный армия км производитель боевой операция войско\n",
            "topic_8: ракета район советский ссср россия опубликовать граница\n",
            "topic_9: взрыв турция исследователь древний великобритания земля отряд\n",
            "topic_10: температура первый запуск двигатель пенсия космический всё\n",
            "topic_11: банк научный учёный млрд система экономика исследователь\n",
            "topic_12: обнаружить турист ребёнок тело дом найти земля\n",
            "topic_13: продукция ветер фильм перевод содержать ндс польский\n",
            "topic_14: самолёт объект сша исследование восток штат полёт\n",
            "topic_15: рубль россия правительство фонд российский nn руб\n",
            "topic_16: станция день nn фестиваль спрос мероприятие площадь\n",
            "topic_17: учёный газпром выяснить квартира астероид американский дом\n",
            "topic_18: сша американский нефть россия источник северный товар\n",
            "topic_19: погибнуть самолёт пассажир произойти помощь данные катастрофа\n",
            "topic_20: млн ребёнок налог проверка возраст тыс писать\n",
            "topic_21: сотрудник гражданин эксперимент nn уголовный орган убийство\n",
            "topic_22: земля рак путин россия nasa полёт церковь\n",
            "topic_23: клетка автор женщина врач мужчина организм nn\n",
            "topic_24: исследование журнал россия российский nn операция помощь\n"
          ],
          "name": "stdout"
        }
      ]
    },
    {
      "cell_type": "markdown",
      "metadata": {
        "id": "quhDzFAuq8PQ"
      },
      "source": [
        "Очень неплохо - большинство тем вполне можно описать о чем они"
      ]
    },
    {
      "cell_type": "markdown",
      "metadata": {
        "id": "_VU-Wo0gq8PQ"
      },
      "source": [
        "Давайте напишем функцию, которая будет нам возвращать векторное представление новости"
      ]
    },
    {
      "cell_type": "code",
      "metadata": {
        "id": "bWWObPzXq8PR"
      },
      "source": [
        "#text = news['title'].iloc[0]\n",
        "\n",
        "def get_lda_vector(text):\n",
        "    unseen_doc = common_dictionary.doc2bow(text)\n",
        "    lda_tuple = lda[unseen_doc]\n",
        "    not_null_topics = dict(zip([i[0] for i in lda_tuple], [i[1] for i in lda_tuple]))\n",
        "\n",
        "    output_vector = []\n",
        "    for i in range(25):\n",
        "        if i not in not_null_topics:\n",
        "            output_vector.append(0)\n",
        "        else:\n",
        "            output_vector.append(not_null_topics[i])\n",
        "    return np.array(output_vector)"
      ],
      "execution_count": 158,
      "outputs": []
    },
    {
      "cell_type": "code",
      "metadata": {
        "id": "JGSll5kmq8PR",
        "colab": {
          "base_uri": "https://localhost:8080/",
          "height": 224
        },
        "outputId": "7cff7195-9b37-41ff-bd89-1fa259f051b6"
      },
      "source": [
        "topic_matrix = pd.DataFrame([get_lda_vector(text) for text in news['title'].values])\n",
        "topic_matrix.columns = ['topic_{}'.format(i) for i in range(25)]\n",
        "topic_matrix['doc_id'] = news['doc_id'].values\n",
        "topic_matrix = topic_matrix[['doc_id']+['topic_{}'.format(i) for i in range(25)]]\n",
        "topic_matrix.head(5)"
      ],
      "execution_count": 214,
      "outputs": [
        {
          "output_type": "execute_result",
          "data": {
            "text/html": [
              "<div>\n",
              "<style scoped>\n",
              "    .dataframe tbody tr th:only-of-type {\n",
              "        vertical-align: middle;\n",
              "    }\n",
              "\n",
              "    .dataframe tbody tr th {\n",
              "        vertical-align: top;\n",
              "    }\n",
              "\n",
              "    .dataframe thead th {\n",
              "        text-align: right;\n",
              "    }\n",
              "</style>\n",
              "<table border=\"1\" class=\"dataframe\">\n",
              "  <thead>\n",
              "    <tr style=\"text-align: right;\">\n",
              "      <th></th>\n",
              "      <th>doc_id</th>\n",
              "      <th>topic_0</th>\n",
              "      <th>topic_1</th>\n",
              "      <th>topic_2</th>\n",
              "      <th>topic_3</th>\n",
              "      <th>topic_4</th>\n",
              "      <th>topic_5</th>\n",
              "      <th>topic_6</th>\n",
              "      <th>topic_7</th>\n",
              "      <th>topic_8</th>\n",
              "      <th>topic_9</th>\n",
              "      <th>topic_10</th>\n",
              "      <th>topic_11</th>\n",
              "      <th>topic_12</th>\n",
              "      <th>topic_13</th>\n",
              "      <th>topic_14</th>\n",
              "      <th>topic_15</th>\n",
              "      <th>topic_16</th>\n",
              "      <th>topic_17</th>\n",
              "      <th>topic_18</th>\n",
              "      <th>topic_19</th>\n",
              "      <th>topic_20</th>\n",
              "      <th>topic_21</th>\n",
              "      <th>topic_22</th>\n",
              "      <th>topic_23</th>\n",
              "      <th>topic_24</th>\n",
              "    </tr>\n",
              "  </thead>\n",
              "  <tbody>\n",
              "    <tr>\n",
              "      <th>0</th>\n",
              "      <td>6</td>\n",
              "      <td>0.000000</td>\n",
              "      <td>0.013746</td>\n",
              "      <td>0.0</td>\n",
              "      <td>0.000000</td>\n",
              "      <td>0.038471</td>\n",
              "      <td>0.000000</td>\n",
              "      <td>0.0</td>\n",
              "      <td>0.0</td>\n",
              "      <td>0.0</td>\n",
              "      <td>0.0</td>\n",
              "      <td>0.184006</td>\n",
              "      <td>0.0</td>\n",
              "      <td>0.0</td>\n",
              "      <td>0.000000</td>\n",
              "      <td>0.000000</td>\n",
              "      <td>0.252509</td>\n",
              "      <td>0.045406</td>\n",
              "      <td>0.000000</td>\n",
              "      <td>0.00000</td>\n",
              "      <td>0.0</td>\n",
              "      <td>0.000000</td>\n",
              "      <td>0.459476</td>\n",
              "      <td>0.0</td>\n",
              "      <td>0.000000</td>\n",
              "      <td>0.0</td>\n",
              "    </tr>\n",
              "    <tr>\n",
              "      <th>1</th>\n",
              "      <td>4896</td>\n",
              "      <td>0.000000</td>\n",
              "      <td>0.000000</td>\n",
              "      <td>0.0</td>\n",
              "      <td>0.000000</td>\n",
              "      <td>0.000000</td>\n",
              "      <td>0.042049</td>\n",
              "      <td>0.0</td>\n",
              "      <td>0.0</td>\n",
              "      <td>0.0</td>\n",
              "      <td>0.0</td>\n",
              "      <td>0.837406</td>\n",
              "      <td>0.0</td>\n",
              "      <td>0.0</td>\n",
              "      <td>0.000000</td>\n",
              "      <td>0.000000</td>\n",
              "      <td>0.000000</td>\n",
              "      <td>0.000000</td>\n",
              "      <td>0.000000</td>\n",
              "      <td>0.00000</td>\n",
              "      <td>0.0</td>\n",
              "      <td>0.000000</td>\n",
              "      <td>0.099082</td>\n",
              "      <td>0.0</td>\n",
              "      <td>0.000000</td>\n",
              "      <td>0.0</td>\n",
              "    </tr>\n",
              "    <tr>\n",
              "      <th>2</th>\n",
              "      <td>4897</td>\n",
              "      <td>0.000000</td>\n",
              "      <td>0.000000</td>\n",
              "      <td>0.0</td>\n",
              "      <td>0.000000</td>\n",
              "      <td>0.000000</td>\n",
              "      <td>0.042244</td>\n",
              "      <td>0.0</td>\n",
              "      <td>0.0</td>\n",
              "      <td>0.0</td>\n",
              "      <td>0.0</td>\n",
              "      <td>0.776384</td>\n",
              "      <td>0.0</td>\n",
              "      <td>0.0</td>\n",
              "      <td>0.029526</td>\n",
              "      <td>0.000000</td>\n",
              "      <td>0.000000</td>\n",
              "      <td>0.000000</td>\n",
              "      <td>0.000000</td>\n",
              "      <td>0.00000</td>\n",
              "      <td>0.0</td>\n",
              "      <td>0.131358</td>\n",
              "      <td>0.000000</td>\n",
              "      <td>0.0</td>\n",
              "      <td>0.000000</td>\n",
              "      <td>0.0</td>\n",
              "    </tr>\n",
              "    <tr>\n",
              "      <th>3</th>\n",
              "      <td>4898</td>\n",
              "      <td>0.000000</td>\n",
              "      <td>0.000000</td>\n",
              "      <td>0.0</td>\n",
              "      <td>0.210369</td>\n",
              "      <td>0.000000</td>\n",
              "      <td>0.069597</td>\n",
              "      <td>0.0</td>\n",
              "      <td>0.0</td>\n",
              "      <td>0.0</td>\n",
              "      <td>0.0</td>\n",
              "      <td>0.263035</td>\n",
              "      <td>0.0</td>\n",
              "      <td>0.0</td>\n",
              "      <td>0.000000</td>\n",
              "      <td>0.000000</td>\n",
              "      <td>0.050122</td>\n",
              "      <td>0.145659</td>\n",
              "      <td>0.000000</td>\n",
              "      <td>0.25217</td>\n",
              "      <td>0.0</td>\n",
              "      <td>0.000000</td>\n",
              "      <td>0.000000</td>\n",
              "      <td>0.0</td>\n",
              "      <td>0.000000</td>\n",
              "      <td>0.0</td>\n",
              "    </tr>\n",
              "    <tr>\n",
              "      <th>4</th>\n",
              "      <td>4899</td>\n",
              "      <td>0.034183</td>\n",
              "      <td>0.317714</td>\n",
              "      <td>0.0</td>\n",
              "      <td>0.000000</td>\n",
              "      <td>0.000000</td>\n",
              "      <td>0.000000</td>\n",
              "      <td>0.0</td>\n",
              "      <td>0.0</td>\n",
              "      <td>0.0</td>\n",
              "      <td>0.0</td>\n",
              "      <td>0.000000</td>\n",
              "      <td>0.0</td>\n",
              "      <td>0.0</td>\n",
              "      <td>0.000000</td>\n",
              "      <td>0.057584</td>\n",
              "      <td>0.466820</td>\n",
              "      <td>0.000000</td>\n",
              "      <td>0.031465</td>\n",
              "      <td>0.00000</td>\n",
              "      <td>0.0</td>\n",
              "      <td>0.000000</td>\n",
              "      <td>0.000000</td>\n",
              "      <td>0.0</td>\n",
              "      <td>0.071694</td>\n",
              "      <td>0.0</td>\n",
              "    </tr>\n",
              "  </tbody>\n",
              "</table>\n",
              "</div>"
            ],
            "text/plain": [
              "   doc_id   topic_0   topic_1  topic_2  ...  topic_21  topic_22  topic_23  topic_24\n",
              "0       6  0.000000  0.013746      0.0  ...  0.459476       0.0  0.000000       0.0\n",
              "1    4896  0.000000  0.000000      0.0  ...  0.099082       0.0  0.000000       0.0\n",
              "2    4897  0.000000  0.000000      0.0  ...  0.000000       0.0  0.000000       0.0\n",
              "3    4898  0.000000  0.000000      0.0  ...  0.000000       0.0  0.000000       0.0\n",
              "4    4899  0.034183  0.317714      0.0  ...  0.000000       0.0  0.071694       0.0\n",
              "\n",
              "[5 rows x 26 columns]"
            ]
          },
          "metadata": {
            "tags": []
          },
          "execution_count": 214
        }
      ]
    },
    {
      "cell_type": "markdown",
      "metadata": {
        "id": "z6haXz16q8PS"
      },
      "source": [
        "Прекрасно, мы получили вектора наших новостей! И даже умеем интерпретировать получившиеся темы.\n",
        "\n",
        "Можно двигаться далее"
      ]
    },
    {
      "cell_type": "markdown",
      "metadata": {
        "id": "PLh1FlcXq8PS"
      },
      "source": [
        "### Следующий шаг - векторные представления пользователей"
      ]
    },
    {
      "cell_type": "code",
      "metadata": {
        "scrolled": true,
        "id": "11x1KSeFq8PT",
        "colab": {
          "base_uri": "https://localhost:8080/",
          "height": 142
        },
        "outputId": "86e0ef4e-5d58-4fcf-dcab-99ddd3e984ff"
      },
      "source": [
        "users.head(3)"
      ],
      "execution_count": 215,
      "outputs": [
        {
          "output_type": "execute_result",
          "data": {
            "text/html": [
              "<div>\n",
              "<style scoped>\n",
              "    .dataframe tbody tr th:only-of-type {\n",
              "        vertical-align: middle;\n",
              "    }\n",
              "\n",
              "    .dataframe tbody tr th {\n",
              "        vertical-align: top;\n",
              "    }\n",
              "\n",
              "    .dataframe thead th {\n",
              "        text-align: right;\n",
              "    }\n",
              "</style>\n",
              "<table border=\"1\" class=\"dataframe\">\n",
              "  <thead>\n",
              "    <tr style=\"text-align: right;\">\n",
              "      <th></th>\n",
              "      <th>uid</th>\n",
              "      <th>articles</th>\n",
              "    </tr>\n",
              "  </thead>\n",
              "  <tbody>\n",
              "    <tr>\n",
              "      <th>0</th>\n",
              "      <td>u105138</td>\n",
              "      <td>[293672, 293328, 293001, 293622, 293126, 1852]</td>\n",
              "    </tr>\n",
              "    <tr>\n",
              "      <th>1</th>\n",
              "      <td>u108690</td>\n",
              "      <td>[3405, 1739, 2972, 1158, 1599, 322665]</td>\n",
              "    </tr>\n",
              "    <tr>\n",
              "      <th>2</th>\n",
              "      <td>u108339</td>\n",
              "      <td>[1845, 2009, 2356, 1424, 2939, 323389]</td>\n",
              "    </tr>\n",
              "  </tbody>\n",
              "</table>\n",
              "</div>"
            ],
            "text/plain": [
              "       uid                                        articles\n",
              "0  u105138  [293672, 293328, 293001, 293622, 293126, 1852]\n",
              "1  u108690          [3405, 1739, 2972, 1158, 1599, 322665]\n",
              "2  u108339          [1845, 2009, 2356, 1424, 2939, 323389]"
            ]
          },
          "metadata": {
            "tags": []
          },
          "execution_count": 215
        }
      ]
    },
    {
      "cell_type": "code",
      "metadata": {
        "id": "5sm5EppMq8PT"
      },
      "source": [
        "doc_dict = dict(zip(topic_matrix['doc_id'].values, topic_matrix[['topic_{}'.format(i) for i in range(25)]].values))"
      ],
      "execution_count": 216,
      "outputs": []
    },
    {
      "cell_type": "code",
      "metadata": {
        "id": "YvuXvKsvq8PT",
        "colab": {
          "base_uri": "https://localhost:8080/"
        },
        "outputId": "c5518fc5-e67d-4650-b48e-ec8a3f26b4e9"
      },
      "source": [
        "doc_dict[293622]"
      ],
      "execution_count": 217,
      "outputs": [
        {
          "output_type": "execute_result",
          "data": {
            "text/plain": [
              "array([0.        , 0.        , 0.11337657, 0.        , 0.01340865,\n",
              "       0.12282548, 0.        , 0.        , 0.        , 0.        ,\n",
              "       0.        , 0.12007386, 0.11369201, 0.        , 0.        ,\n",
              "       0.        , 0.        , 0.19495954, 0.        , 0.03953385,\n",
              "       0.        , 0.        , 0.05332864, 0.10300913, 0.11934067])"
            ]
          },
          "metadata": {
            "tags": []
          },
          "execution_count": 217
        }
      ]
    },
    {
      "cell_type": "code",
      "metadata": {
        "id": "S8NXDdEaq8PU"
      },
      "source": [
        "user_articles_list = users['articles'].iloc[23]\n",
        "\n",
        "def get_user_embedding(user_articles_list):\n",
        "    user_articles_list = eval(user_articles_list)\n",
        "    user_vector = np.array([doc_dict[doc_id] for doc_id in user_articles_list])\n",
        "    print(user_vector)\n",
        "    user_vector = np.max(user_vector, 0)\n",
        "    return user_vector"
      ],
      "execution_count": 279,
      "outputs": []
    },
    {
      "cell_type": "code",
      "metadata": {
        "id": "kK8uqPKdq8PU",
        "colab": {
          "base_uri": "https://localhost:8080/"
        },
        "outputId": "b25c925b-7a65-4747-bd7b-cbef38456e92"
      },
      "source": [
        "user_vector = get_user_embedding(user_articles_list)\n",
        "print(f'Результат {user_vector}')"
      ],
      "execution_count": 280,
      "outputs": [
        {
          "output_type": "stream",
          "text": [
            "[[0.         0.         0.14801317 0.         0.         0.\n",
            "  0.         0.         0.08381031 0.02994232 0.         0.\n",
            "  0.23930117 0.         0.         0.         0.         0.\n",
            "  0.13057914 0.32184306 0.         0.03119162 0.         0.\n",
            "  0.        ]\n",
            " [0.         0.         0.31670517 0.         0.         0.16471466\n",
            "  0.         0.         0.         0.         0.05608067 0.\n",
            "  0.         0.         0.         0.         0.         0.10846143\n",
            "  0.         0.16540337 0.         0.         0.         0.\n",
            "  0.16628174]\n",
            " [0.04106514 0.         0.08289863 0.01070745 0.         0.\n",
            "  0.         0.         0.         0.         0.         0.\n",
            "  0.         0.         0.         0.23112775 0.         0.\n",
            "  0.         0.0302479  0.         0.5972864  0.         0.\n",
            "  0.        ]\n",
            " [0.0110653  0.         0.         0.         0.01750999 0.10234948\n",
            "  0.         0.         0.         0.01242254 0.         0.\n",
            "  0.         0.         0.         0.35949686 0.         0.\n",
            "  0.         0.05513137 0.         0.10952214 0.         0.\n",
            "  0.31949413]\n",
            " [0.         0.31029937 0.         0.         0.         0.\n",
            "  0.02307086 0.         0.         0.         0.         0.\n",
            "  0.         0.         0.27648404 0.         0.         0.\n",
            "  0.         0.13789763 0.         0.         0.         0.\n",
            "  0.23770265]\n",
            " [0.         0.         0.08542763 0.         0.0786748  0.03057669\n",
            "  0.06423847 0.01912122 0.         0.         0.         0.02293606\n",
            "  0.08945182 0.         0.         0.         0.37637532 0.13889807\n",
            "  0.         0.         0.         0.         0.08534464 0.\n",
            "  0.        ]]\n",
            "Результат [0.04106514 0.31029937 0.31670517 0.01070745 0.0786748  0.16471466\n",
            " 0.06423847 0.01912122 0.08381031 0.02994232 0.05608067 0.02293606\n",
            " 0.23930117 0.         0.27648404 0.35949686 0.37637532 0.13889807\n",
            " 0.13057914 0.32184306 0.         0.5972864  0.08534464 0.\n",
            " 0.31949413]\n"
          ],
          "name": "stdout"
        }
      ]
    },
    {
      "cell_type": "markdown",
      "metadata": {
        "id": "3Tgex6bIq8PU"
      },
      "source": [
        "Интересовался новостями с топиками topic_3, topic_14 (что-то про политику и государство)"
      ]
    },
    {
      "cell_type": "code",
      "metadata": {
        "id": "sf2sRft-q8PV",
        "colab": {
          "base_uri": "https://localhost:8080/",
          "height": 35
        },
        "outputId": "cecf75e5-04f5-4958-edc0-977d16cfd12f"
      },
      "source": [
        "users['articles'].iloc[23]"
      ],
      "execution_count": 273,
      "outputs": [
        {
          "output_type": "execute_result",
          "data": {
            "application/vnd.google.colaboratory.intrinsic+json": {
              "type": "string"
            },
            "text/plain": [
              "'[323368, 321993, 323512, 322461, 324603, 169]'"
            ]
          },
          "metadata": {
            "tags": []
          },
          "execution_count": 273
        }
      ]
    },
    {
      "cell_type": "code",
      "metadata": {
        "scrolled": true,
        "id": "5r4Fg_QZq8PV",
        "colab": {
          "base_uri": "https://localhost:8080/",
          "height": 103
        },
        "outputId": "e540ec1f-a113-48fd-b8b8-73b6809017e8"
      },
      "source": [
        "\" \".join(news[news['doc_id']==293622]['title'].iloc[0])"
      ],
      "execution_count": 278,
      "outputs": [
        {
          "output_type": "execute_result",
          "data": {
            "application/vnd.google.colaboratory.intrinsic+json": {
              "type": "string"
            },
            "text/plain": [
              "'звезда бродвей преддверие сочинский олимпиада опубликовать интернет пародийный мюзикл любовь наказание love punishment высмеивать закон запрет пропаганда гомосексуализм среди несовершеннолетний nhuffington postnn согласно сюжет видео власть закрывать российский бродвей поскольку всё спектакль носить пропаганда гомосексуализм ответ актёр ставить спектакль рассказываться история однополый пара разный эпоха российский история nn мюзикл присутствовать персонаж владимир путин чей жена замысел автор уходить женщина супружеский измена вымышленный путин рвать рубашка выступать против лгбтсообщество режиссёр ролик выступить джон уолтон уэст композитор джейсон майкл сноу видео сняться известный актёр бродвей джонатан грофф майкл ури эндрю рэннеллс каждый открытый гей'"
            ]
          },
          "metadata": {
            "tags": []
          },
          "execution_count": 278
        }
      ]
    },
    {
      "cell_type": "markdown",
      "metadata": {
        "id": "pzYxnpcGq8PV"
      },
      "source": [
        "Теперь получим эмбединги для всех пользователей и проверим их качество на конкретной downstream-задаче"
      ]
    },
    {
      "cell_type": "code",
      "metadata": {
        "id": "XA_s5VNwq8PW",
        "colab": {
          "base_uri": "https://localhost:8080/",
          "height": 162
        },
        "outputId": "faff330d-bc11-4183-f184-447bcea2ecf8"
      },
      "source": [
        "user_embeddings = pd.DataFrame([i for i in users['articles'].apply(lambda x: get_user_embedding(x), 1)])\n",
        "user_embeddings.columns = ['topic_{}'.format(i) for i in range(25)]\n",
        "user_embeddings['uid'] = users['uid'].values\n",
        "user_embeddings = user_embeddings[['uid']+['topic_{}'.format(i) for i in range(25)]]\n",
        "user_embeddings.head(3)"
      ],
      "execution_count": 167,
      "outputs": [
        {
          "output_type": "execute_result",
          "data": {
            "text/html": [
              "<div>\n",
              "<style scoped>\n",
              "    .dataframe tbody tr th:only-of-type {\n",
              "        vertical-align: middle;\n",
              "    }\n",
              "\n",
              "    .dataframe tbody tr th {\n",
              "        vertical-align: top;\n",
              "    }\n",
              "\n",
              "    .dataframe thead th {\n",
              "        text-align: right;\n",
              "    }\n",
              "</style>\n",
              "<table border=\"1\" class=\"dataframe\">\n",
              "  <thead>\n",
              "    <tr style=\"text-align: right;\">\n",
              "      <th></th>\n",
              "      <th>uid</th>\n",
              "      <th>topic_0</th>\n",
              "      <th>topic_1</th>\n",
              "      <th>topic_2</th>\n",
              "      <th>topic_3</th>\n",
              "      <th>topic_4</th>\n",
              "      <th>topic_5</th>\n",
              "      <th>topic_6</th>\n",
              "      <th>topic_7</th>\n",
              "      <th>topic_8</th>\n",
              "      <th>topic_9</th>\n",
              "      <th>topic_10</th>\n",
              "      <th>topic_11</th>\n",
              "      <th>topic_12</th>\n",
              "      <th>topic_13</th>\n",
              "      <th>topic_14</th>\n",
              "      <th>topic_15</th>\n",
              "      <th>topic_16</th>\n",
              "      <th>topic_17</th>\n",
              "      <th>topic_18</th>\n",
              "      <th>topic_19</th>\n",
              "      <th>topic_20</th>\n",
              "      <th>topic_21</th>\n",
              "      <th>topic_22</th>\n",
              "      <th>topic_23</th>\n",
              "      <th>topic_24</th>\n",
              "    </tr>\n",
              "  </thead>\n",
              "  <tbody>\n",
              "    <tr>\n",
              "      <th>0</th>\n",
              "      <td>u105138</td>\n",
              "      <td>0.082215</td>\n",
              "      <td>0.015851</td>\n",
              "      <td>0.040427</td>\n",
              "      <td>0.031290</td>\n",
              "      <td>0.010100</td>\n",
              "      <td>0.020471</td>\n",
              "      <td>0.035659</td>\n",
              "      <td>0.029475</td>\n",
              "      <td>0.043792</td>\n",
              "      <td>0.029728</td>\n",
              "      <td>0.001704</td>\n",
              "      <td>0.062701</td>\n",
              "      <td>0.100191</td>\n",
              "      <td>0.039317</td>\n",
              "      <td>0.000000</td>\n",
              "      <td>0.005102</td>\n",
              "      <td>0.056132</td>\n",
              "      <td>0.057920</td>\n",
              "      <td>0.000000</td>\n",
              "      <td>0.036768</td>\n",
              "      <td>0.088320</td>\n",
              "      <td>0.053700</td>\n",
              "      <td>0.035634</td>\n",
              "      <td>0.017167</td>\n",
              "      <td>0.092983</td>\n",
              "    </tr>\n",
              "    <tr>\n",
              "      <th>1</th>\n",
              "      <td>u108690</td>\n",
              "      <td>0.082364</td>\n",
              "      <td>0.004764</td>\n",
              "      <td>0.000000</td>\n",
              "      <td>0.132132</td>\n",
              "      <td>0.000000</td>\n",
              "      <td>0.000000</td>\n",
              "      <td>0.030529</td>\n",
              "      <td>0.007917</td>\n",
              "      <td>0.028869</td>\n",
              "      <td>0.006355</td>\n",
              "      <td>0.001825</td>\n",
              "      <td>0.094706</td>\n",
              "      <td>0.067710</td>\n",
              "      <td>0.026006</td>\n",
              "      <td>0.003446</td>\n",
              "      <td>0.068779</td>\n",
              "      <td>0.030749</td>\n",
              "      <td>0.006466</td>\n",
              "      <td>0.085213</td>\n",
              "      <td>0.016058</td>\n",
              "      <td>0.032493</td>\n",
              "      <td>0.102689</td>\n",
              "      <td>0.030040</td>\n",
              "      <td>0.006238</td>\n",
              "      <td>0.120761</td>\n",
              "    </tr>\n",
              "    <tr>\n",
              "      <th>2</th>\n",
              "      <td>u108339</td>\n",
              "      <td>0.019434</td>\n",
              "      <td>0.000000</td>\n",
              "      <td>0.041786</td>\n",
              "      <td>0.032189</td>\n",
              "      <td>0.006204</td>\n",
              "      <td>0.060201</td>\n",
              "      <td>0.011568</td>\n",
              "      <td>0.010385</td>\n",
              "      <td>0.010389</td>\n",
              "      <td>0.011059</td>\n",
              "      <td>0.039167</td>\n",
              "      <td>0.030802</td>\n",
              "      <td>0.105111</td>\n",
              "      <td>0.002334</td>\n",
              "      <td>0.008225</td>\n",
              "      <td>0.143918</td>\n",
              "      <td>0.018306</td>\n",
              "      <td>0.016321</td>\n",
              "      <td>0.013184</td>\n",
              "      <td>0.049540</td>\n",
              "      <td>0.007458</td>\n",
              "      <td>0.147849</td>\n",
              "      <td>0.026022</td>\n",
              "      <td>0.008727</td>\n",
              "      <td>0.170728</td>\n",
              "    </tr>\n",
              "  </tbody>\n",
              "</table>\n",
              "</div>"
            ],
            "text/plain": [
              "       uid   topic_0   topic_1  ...  topic_22  topic_23  topic_24\n",
              "0  u105138  0.082215  0.015851  ...  0.035634  0.017167  0.092983\n",
              "1  u108690  0.082364  0.004764  ...  0.030040  0.006238  0.120761\n",
              "2  u108339  0.019434  0.000000  ...  0.026022  0.008727  0.170728\n",
              "\n",
              "[3 rows x 26 columns]"
            ]
          },
          "metadata": {
            "tags": []
          },
          "execution_count": 167
        }
      ]
    },
    {
      "cell_type": "markdown",
      "metadata": {
        "id": "-9G9wkZ8q8PW"
      },
      "source": [
        "Датасет готов - можно попробовать обучить модель. Загрузим нашу разметку"
      ]
    },
    {
      "cell_type": "code",
      "metadata": {
        "id": "oDdmP42Yq8PW",
        "colab": {
          "base_uri": "https://localhost:8080/",
          "height": 266
        },
        "outputId": "ec492fc7-8b3e-408e-f5fe-5ee95e6711b8"
      },
      "source": [
        "target = pd.read_csv(\"/content/drive/MyDrive/Colab Notebooks/GB/Machine-learning-in-business/lesson_2/users_churn.csv\")\n",
        "target.iloc[23:30]"
      ],
      "execution_count": 272,
      "outputs": [
        {
          "output_type": "execute_result",
          "data": {
            "text/html": [
              "<div>\n",
              "<style scoped>\n",
              "    .dataframe tbody tr th:only-of-type {\n",
              "        vertical-align: middle;\n",
              "    }\n",
              "\n",
              "    .dataframe tbody tr th {\n",
              "        vertical-align: top;\n",
              "    }\n",
              "\n",
              "    .dataframe thead th {\n",
              "        text-align: right;\n",
              "    }\n",
              "</style>\n",
              "<table border=\"1\" class=\"dataframe\">\n",
              "  <thead>\n",
              "    <tr style=\"text-align: right;\">\n",
              "      <th></th>\n",
              "      <th>uid</th>\n",
              "      <th>churn</th>\n",
              "    </tr>\n",
              "  </thead>\n",
              "  <tbody>\n",
              "    <tr>\n",
              "      <th>23</th>\n",
              "      <td>u108761</td>\n",
              "      <td>1</td>\n",
              "    </tr>\n",
              "    <tr>\n",
              "      <th>24</th>\n",
              "      <td>u103621</td>\n",
              "      <td>0</td>\n",
              "    </tr>\n",
              "    <tr>\n",
              "      <th>25</th>\n",
              "      <td>u106474</td>\n",
              "      <td>0</td>\n",
              "    </tr>\n",
              "    <tr>\n",
              "      <th>26</th>\n",
              "      <td>u108925</td>\n",
              "      <td>1</td>\n",
              "    </tr>\n",
              "    <tr>\n",
              "      <th>27</th>\n",
              "      <td>u104325</td>\n",
              "      <td>0</td>\n",
              "    </tr>\n",
              "    <tr>\n",
              "      <th>28</th>\n",
              "      <td>u101472</td>\n",
              "      <td>0</td>\n",
              "    </tr>\n",
              "    <tr>\n",
              "      <th>29</th>\n",
              "      <td>u106404</td>\n",
              "      <td>0</td>\n",
              "    </tr>\n",
              "  </tbody>\n",
              "</table>\n",
              "</div>"
            ],
            "text/plain": [
              "        uid  churn\n",
              "23  u108761      1\n",
              "24  u103621      0\n",
              "25  u106474      0\n",
              "26  u108925      1\n",
              "27  u104325      0\n",
              "28  u101472      0\n",
              "29  u106404      0"
            ]
          },
          "metadata": {
            "tags": []
          },
          "execution_count": 272
        }
      ]
    },
    {
      "cell_type": "code",
      "metadata": {
        "id": "liMFgQjsq8PX",
        "colab": {
          "base_uri": "https://localhost:8080/",
          "height": 162
        },
        "outputId": "0f818fad-0528-4860-ce56-67fb4e844e38"
      },
      "source": [
        "X = pd.merge(user_embeddings, target, 'left')\n",
        "X.head(3)"
      ],
      "execution_count": 169,
      "outputs": [
        {
          "output_type": "execute_result",
          "data": {
            "text/html": [
              "<div>\n",
              "<style scoped>\n",
              "    .dataframe tbody tr th:only-of-type {\n",
              "        vertical-align: middle;\n",
              "    }\n",
              "\n",
              "    .dataframe tbody tr th {\n",
              "        vertical-align: top;\n",
              "    }\n",
              "\n",
              "    .dataframe thead th {\n",
              "        text-align: right;\n",
              "    }\n",
              "</style>\n",
              "<table border=\"1\" class=\"dataframe\">\n",
              "  <thead>\n",
              "    <tr style=\"text-align: right;\">\n",
              "      <th></th>\n",
              "      <th>uid</th>\n",
              "      <th>topic_0</th>\n",
              "      <th>topic_1</th>\n",
              "      <th>topic_2</th>\n",
              "      <th>topic_3</th>\n",
              "      <th>topic_4</th>\n",
              "      <th>topic_5</th>\n",
              "      <th>topic_6</th>\n",
              "      <th>topic_7</th>\n",
              "      <th>topic_8</th>\n",
              "      <th>topic_9</th>\n",
              "      <th>topic_10</th>\n",
              "      <th>topic_11</th>\n",
              "      <th>topic_12</th>\n",
              "      <th>topic_13</th>\n",
              "      <th>topic_14</th>\n",
              "      <th>topic_15</th>\n",
              "      <th>topic_16</th>\n",
              "      <th>topic_17</th>\n",
              "      <th>topic_18</th>\n",
              "      <th>topic_19</th>\n",
              "      <th>topic_20</th>\n",
              "      <th>topic_21</th>\n",
              "      <th>topic_22</th>\n",
              "      <th>topic_23</th>\n",
              "      <th>topic_24</th>\n",
              "      <th>churn</th>\n",
              "    </tr>\n",
              "  </thead>\n",
              "  <tbody>\n",
              "    <tr>\n",
              "      <th>0</th>\n",
              "      <td>u105138</td>\n",
              "      <td>0.082215</td>\n",
              "      <td>0.015851</td>\n",
              "      <td>0.040427</td>\n",
              "      <td>0.031290</td>\n",
              "      <td>0.010100</td>\n",
              "      <td>0.020471</td>\n",
              "      <td>0.035659</td>\n",
              "      <td>0.029475</td>\n",
              "      <td>0.043792</td>\n",
              "      <td>0.029728</td>\n",
              "      <td>0.001704</td>\n",
              "      <td>0.062701</td>\n",
              "      <td>0.100191</td>\n",
              "      <td>0.039317</td>\n",
              "      <td>0.000000</td>\n",
              "      <td>0.005102</td>\n",
              "      <td>0.056132</td>\n",
              "      <td>0.057920</td>\n",
              "      <td>0.000000</td>\n",
              "      <td>0.036768</td>\n",
              "      <td>0.088320</td>\n",
              "      <td>0.053700</td>\n",
              "      <td>0.035634</td>\n",
              "      <td>0.017167</td>\n",
              "      <td>0.092983</td>\n",
              "      <td>0</td>\n",
              "    </tr>\n",
              "    <tr>\n",
              "      <th>1</th>\n",
              "      <td>u108690</td>\n",
              "      <td>0.082364</td>\n",
              "      <td>0.004764</td>\n",
              "      <td>0.000000</td>\n",
              "      <td>0.132132</td>\n",
              "      <td>0.000000</td>\n",
              "      <td>0.000000</td>\n",
              "      <td>0.030529</td>\n",
              "      <td>0.007917</td>\n",
              "      <td>0.028869</td>\n",
              "      <td>0.006355</td>\n",
              "      <td>0.001825</td>\n",
              "      <td>0.094706</td>\n",
              "      <td>0.067710</td>\n",
              "      <td>0.026006</td>\n",
              "      <td>0.003446</td>\n",
              "      <td>0.068779</td>\n",
              "      <td>0.030749</td>\n",
              "      <td>0.006466</td>\n",
              "      <td>0.085213</td>\n",
              "      <td>0.016058</td>\n",
              "      <td>0.032493</td>\n",
              "      <td>0.102689</td>\n",
              "      <td>0.030040</td>\n",
              "      <td>0.006238</td>\n",
              "      <td>0.120761</td>\n",
              "      <td>1</td>\n",
              "    </tr>\n",
              "    <tr>\n",
              "      <th>2</th>\n",
              "      <td>u108339</td>\n",
              "      <td>0.019434</td>\n",
              "      <td>0.000000</td>\n",
              "      <td>0.041786</td>\n",
              "      <td>0.032189</td>\n",
              "      <td>0.006204</td>\n",
              "      <td>0.060201</td>\n",
              "      <td>0.011568</td>\n",
              "      <td>0.010385</td>\n",
              "      <td>0.010389</td>\n",
              "      <td>0.011059</td>\n",
              "      <td>0.039167</td>\n",
              "      <td>0.030802</td>\n",
              "      <td>0.105111</td>\n",
              "      <td>0.002334</td>\n",
              "      <td>0.008225</td>\n",
              "      <td>0.143918</td>\n",
              "      <td>0.018306</td>\n",
              "      <td>0.016321</td>\n",
              "      <td>0.013184</td>\n",
              "      <td>0.049540</td>\n",
              "      <td>0.007458</td>\n",
              "      <td>0.147849</td>\n",
              "      <td>0.026022</td>\n",
              "      <td>0.008727</td>\n",
              "      <td>0.170728</td>\n",
              "      <td>1</td>\n",
              "    </tr>\n",
              "  </tbody>\n",
              "</table>\n",
              "</div>"
            ],
            "text/plain": [
              "       uid   topic_0   topic_1   topic_2  ...  topic_22  topic_23  topic_24  churn\n",
              "0  u105138  0.082215  0.015851  0.040427  ...  0.035634  0.017167  0.092983      0\n",
              "1  u108690  0.082364  0.004764  0.000000  ...  0.030040  0.006238  0.120761      1\n",
              "2  u108339  0.019434  0.000000  0.041786  ...  0.026022  0.008727  0.170728      1\n",
              "\n",
              "[3 rows x 27 columns]"
            ]
          },
          "metadata": {
            "tags": []
          },
          "execution_count": 169
        }
      ]
    },
    {
      "cell_type": "code",
      "metadata": {
        "id": "fgZmqJNXq8PX"
      },
      "source": [
        "from sklearn.linear_model import LogisticRegression\n",
        "from sklearn.model_selection import train_test_split\n",
        "import itertools\n",
        "\n",
        "import matplotlib.pyplot as plt\n",
        "\n",
        "%matplotlib inline"
      ],
      "execution_count": 170,
      "outputs": []
    },
    {
      "cell_type": "code",
      "metadata": {
        "id": "lBlDqpQwq8PX"
      },
      "source": [
        "#разделим данные на train/test\n",
        "X_train, X_test, y_train, y_test = train_test_split(X[['topic_{}'.format(i) for i in range(25)]], \n",
        "                                                    X['churn'], random_state=0)"
      ],
      "execution_count": 171,
      "outputs": []
    },
    {
      "cell_type": "code",
      "metadata": {
        "id": "XtIQ6-Ldq8PX",
        "colab": {
          "base_uri": "https://localhost:8080/"
        },
        "outputId": "0fb8f630-1d60-4f7a-9549-23b2da1af862"
      },
      "source": [
        "logreg = LogisticRegression()\n",
        "#обучим \n",
        "logreg.fit(X_train, y_train)"
      ],
      "execution_count": 172,
      "outputs": [
        {
          "output_type": "execute_result",
          "data": {
            "text/plain": [
              "LogisticRegression(C=1.0, class_weight=None, dual=False, fit_intercept=True,\n",
              "                   intercept_scaling=1, l1_ratio=None, max_iter=100,\n",
              "                   multi_class='auto', n_jobs=None, penalty='l2',\n",
              "                   random_state=None, solver='lbfgs', tol=0.0001, verbose=0,\n",
              "                   warm_start=False)"
            ]
          },
          "metadata": {
            "tags": []
          },
          "execution_count": 172
        }
      ]
    },
    {
      "cell_type": "code",
      "metadata": {
        "id": "oQh1QrAsq8PY",
        "colab": {
          "base_uri": "https://localhost:8080/"
        },
        "outputId": "2b454d91-0695-42ac-e9d0-629ef3de4fd0"
      },
      "source": [
        "#наши прогнозы для тестовой выборки\n",
        "preds = logreg.predict_proba(X_test)[:, 1]\n",
        "preds[:10]"
      ],
      "execution_count": 173,
      "outputs": [
        {
          "output_type": "execute_result",
          "data": {
            "text/plain": [
              "array([0.08914617, 0.01214985, 0.35271397, 0.35702591, 0.18411685,\n",
              "       0.0461856 , 0.26611732, 0.14930137, 0.05484354, 0.19481717])"
            ]
          },
          "metadata": {
            "tags": []
          },
          "execution_count": 173
        }
      ]
    },
    {
      "cell_type": "code",
      "metadata": {
        "id": "PCTdJUYrq8PY"
      },
      "source": [
        "from sklearn.metrics import f1_score, roc_auc_score, precision_score, classification_report, precision_recall_curve, confusion_matrix"
      ],
      "execution_count": 174,
      "outputs": []
    },
    {
      "cell_type": "markdown",
      "metadata": {
        "id": "qteAE6Emq8PY"
      },
      "source": [
        "### Рассчитаем Precision, Recall, F_score"
      ]
    },
    {
      "cell_type": "code",
      "metadata": {
        "id": "HNSjfxuJq8PZ",
        "colab": {
          "base_uri": "https://localhost:8080/"
        },
        "outputId": "c5ae8ba8-7c30-434e-8195-ae4a57071766"
      },
      "source": [
        "precision, recall, thresholds = precision_recall_curve(y_test, preds)\n",
        "fscore = (2 * precision * recall) / (precision + recall)\n",
        "# locate the index of the largest f score\n",
        "ix = np.argmax(fscore)\n",
        "print('Best Threshold=%f, F-Score=%.3f, Precision=%.3f, Recall=%.3f' % (thresholds[ix], \n",
        "                                                                        fscore[ix],\n",
        "                                                                        precision[ix],\n",
        "                                                                        recall[ix]))"
      ],
      "execution_count": 175,
      "outputs": [
        {
          "output_type": "stream",
          "text": [
            "Best Threshold=0.250397, F-Score=0.643, Precision=0.619, Recall=0.669\n"
          ],
          "name": "stdout"
        }
      ]
    },
    {
      "cell_type": "code",
      "metadata": {
        "id": "HZqtQauEq8PZ"
      },
      "source": [
        "def plot_confusion_matrix(cm, classes,\n",
        "                          normalize=False,\n",
        "                          title='Confusion matrix',\n",
        "                          cmap=plt.cm.Blues):\n",
        "    \"\"\"\n",
        "    This function prints and plots the confusion matrix.\n",
        "    Normalization can be applied by setting `normalize=True`.\n",
        "    \"\"\"\n",
        "    plt.imshow(cm, interpolation='nearest', cmap=cmap)\n",
        "    plt.title(title)\n",
        "    plt.colorbar()\n",
        "    tick_marks = np.arange(len(classes))\n",
        "    plt.xticks(tick_marks, classes, rotation=45)\n",
        "    plt.yticks(tick_marks, classes)\n",
        "\n",
        "    if normalize:\n",
        "        cm = cm.astype('float') / cm.sum(axis=1)[:, np.newaxis]\n",
        "        print(\"Normalized confusion matrix\")\n",
        "    else:\n",
        "        print('Confusion matrix, without normalization')\n",
        "\n",
        "    print(cm)\n",
        "\n",
        "    thresh = cm.max() / 2.\n",
        "    for i, j in itertools.product(range(cm.shape[0]), range(cm.shape[1])):\n",
        "        plt.text(j, i, cm[i, j],\n",
        "                 horizontalalignment=\"center\",\n",
        "                 color=\"white\" if cm[i, j] > thresh else \"black\")\n",
        "\n",
        "    plt.tight_layout()\n",
        "    plt.ylabel('True label')\n",
        "    plt.xlabel('Predicted label')"
      ],
      "execution_count": 176,
      "outputs": []
    },
    {
      "cell_type": "code",
      "metadata": {
        "id": "LIilM58cq8Pa",
        "colab": {
          "base_uri": "https://localhost:8080/",
          "height": 644
        },
        "outputId": "1a2e24f0-714d-449b-df83-bf36a2694a5a"
      },
      "source": [
        "#мы уже нашли ранее \"оптимальный\" порог, когда максимизировали f_score\n",
        "font = {'size' : 15}\n",
        "\n",
        "plt.rc('font', **font)\n",
        "\n",
        "cnf_matrix = confusion_matrix(y_test, preds>thresholds[ix])\n",
        "plt.figure(figsize=(10, 8))\n",
        "plot_confusion_matrix(cnf_matrix, classes=['Non-Churn', 'churn'],\n",
        "                      title='Confusion matrix')\n",
        "plt.savefig(\"conf_matrix.png\")\n",
        "plt.show()"
      ],
      "execution_count": 177,
      "outputs": [
        {
          "output_type": "stream",
          "text": [
            "Confusion matrix, without normalization\n",
            "[[1654  101]\n",
            " [  82  163]]\n"
          ],
          "name": "stdout"
        },
        {
          "output_type": "display_data",
          "data": {
            "image/png": "[encoded data removed]",
            "text/plain": [
              "<Figure size 720x576 with 2 Axes>"
            ]
          },
          "metadata": {
            "tags": [],
            "needs_background": "light"
          }
        }
      ]
    },
    {
      "cell_type": "code",
      "metadata": {
        "id": "guFv2Hqfq8Pa",
        "colab": {
          "base_uri": "https://localhost:8080/"
        },
        "outputId": "c26cc0d6-61ef-468f-f700-71093aa5a967"
      },
      "source": [
        "roc_auc_score(y_test, preds)"
      ],
      "execution_count": 178,
      "outputs": [
        {
          "output_type": "execute_result",
          "data": {
            "text/plain": [
              "0.9337031222745508"
            ]
          },
          "metadata": {
            "tags": []
          },
          "execution_count": 178
        }
      ]
    },
    {
      "cell_type": "markdown",
      "metadata": {
        "id": "fi1gca-jq8Pb"
      },
      "source": [
        "В целом мы видим, что получившиеся векторные представления содержат какой-то сигнал и позволяют решать нашу прикладную задачу. "
      ]
    },
    {
      "cell_type": "markdown",
      "metadata": {
        "id": "wy6eaqJOYurb"
      },
      "source": [
        "### Домашнее задание"
      ]
    },
    {
      "cell_type": "markdown",
      "metadata": {
        "id": "xopS9rPEq8Pc"
      },
      "source": [
        "1. Самостоятельно разобраться с тем, что такое tfidf (документация https://scikit-learn.org/stable/modules/generated/sklearn.feature_extraction.text.TfidfVectorizer.html и еще - https://scikit-learn.org/stable/modules/feature_extraction.html#text-feature-extraction)\n",
        "2. Модифицировать код функции get_user_embedding таким образом, чтобы считалось не среднее (как в примере np.mean), а медиана. Применить такое преобразование к данным, обучить модель прогнозирования оттока и посчитать метрики качества и сохранить их: roc auc, precision/recall/f_score (для 3 последних - подобрать оптимальный порог с помощью precision_recall_curve, как это делалось на уроке)\n",
        "3. Повторить п.2, но используя уже не медиану, а max\n",
        "4. (опциональное, если очень хочется) Воспользовавшись полученными знаниями из п.1, повторить пункт 2, но уже взвешивая новости по tfidf (подсказка: нужно получить веса-коэффициенты для каждого документа. Не все документы одинаково информативны и несут какой-то положительный сигнал). Подсказка 2 - нужен именно idf, как вес.\n",
        "5. Сформировать на выходе единую таблицу, сравнивающую качество 3 разных метода получения эмбедингов пользователей: mean, median, max, idf_mean по метрикам roc_auc, precision, recall, f_score\n",
        "6. Сделать самостоятельные выводы и предположения о том, почему тот или ной способ оказался эффективнее остальных"
      ]
    },
    {
      "cell_type": "markdown",
      "metadata": {
        "id": "jGsO-xpTq8Pd"
      },
      "source": [
        "#### Ссылки"
      ]
    },
    {
      "cell_type": "markdown",
      "metadata": {
        "id": "dK_a1VC-q8Pe"
      },
      "source": [
        "1. http://www.machinelearning.ru/wiki/images/d/d5/Voron17survey-artm.pdf\n",
        "2. https://en.wikipedia.org/wiki/Latent_Dirichlet_allocation"
      ]
    },
    {
      "cell_type": "markdown",
      "metadata": {
        "id": "svD21jT8q8Pe"
      },
      "source": [
        "#### Библиотеки, которые нужно установить:\n",
        "\n",
        "1. gensim\n",
        "2. razdel\n",
        "3. pymorphy2\n",
        "4. nltk"
      ]
    },
    {
      "cell_type": "code",
      "metadata": {
        "id": "GL_RufVXX-vl"
      },
      "source": [
        "def get_user_embedding_2(user_articles_list, func=\"mean\"):\n",
        "    user_articles_list = eval(user_articles_list)\n",
        "    user_vector = np.array([doc_dict[doc_id] for doc_id in user_articles_list])\n",
        "    if func == \"mean\": \n",
        "      user_vector = np.mean(user_vector, 0)\n",
        "    elif func == \"median\":\n",
        "      user_vector = np.median(user_vector, 0)\n",
        "    elif func == \"max\":\n",
        "      user_vector = np.max(user_vector, 0) \n",
        "    return user_vector"
      ],
      "execution_count": 186,
      "outputs": []
    },
    {
      "cell_type": "code",
      "metadata": {
        "id": "D_A8_j7BYWUf"
      },
      "source": [
        "def train_model(func):\n",
        "  user_embeddings = pd.DataFrame([i for i in users['articles'].apply(lambda x: get_user_embedding_2(x, func), 1)])\n",
        "  user_embeddings.columns = ['topic_{}'.format(i) for i in range(25)]\n",
        "  user_embeddings['uid'] = users['uid'].values\n",
        "  user_embeddings = user_embeddings[['uid']+['topic_{}'.format(i) for i in range(25)]]\n",
        "\n",
        "  X = pd.merge(user_embeddings, target, 'left')\n",
        "\n",
        "  #разделим данные на train/test\n",
        "  X_train, X_test, y_train, y_test = train_test_split(X[['topic_{}'.format(i) for i in range(25)]], \n",
        "                                                      X['churn'], random_state=0)\n",
        "\n",
        "  logreg = LogisticRegression()\n",
        "  #обучим \n",
        "  logreg.fit(X_train, y_train)\n",
        "\n",
        "\n",
        "  #наши прогнозы для тестовой выборки\n",
        "  preds = logreg.predict_proba(X_test)[:, 1]\n",
        "\n",
        "  precision, recall, thresholds = precision_recall_curve(y_test, preds)\n",
        "  fscore = (2 * precision * recall) / (precision + recall)\n",
        "\n",
        "  # locate the index of the largest f score\n",
        "  ix = np.argmax(fscore)\n",
        "  rocauc_score = roc_auc_score(y_test, preds)\n",
        "  print('Best F-Score=%.3f, Precision=%.3f, Recall=%.3f, roc auc score=%.3f' % (fscore[ix],\n",
        "                                                                          precision[ix],\n",
        "                                                                          recall[ix],\n",
        "                                                                          rocauc_score))\n",
        "  \n",
        "  # cnf_matrix = confusion_matrix(y_test, preds>thresholds[ix])\n",
        "  # plt.figure(figsize=(10, 8))\n",
        "  # plot_confusion_matrix(cnf_matrix, classes=['Non-Churn', 'churn'],\n",
        "  #                       title='Confusion matrix')\n",
        "  # plt.savefig(\"conf_matrix.png\")\n",
        "  # plt.show()"
      ],
      "execution_count": 285,
      "outputs": []
    },
    {
      "cell_type": "code",
      "metadata": {
        "colab": {
          "base_uri": "https://localhost:8080/"
        },
        "id": "DzrX_it2hz2k",
        "outputId": "e447560b-6802-42db-b3f2-73b0f04c297c"
      },
      "source": [
        "train_model(\"mean\")\n",
        "train_model(\"median\")\n",
        "train_model(\"max\")"
      ],
      "execution_count": 286,
      "outputs": [
        {
          "output_type": "stream",
          "text": [
            "Best F-Score=0.642, Precision=0.620, Recall=0.665, roc auc score=0.934\n",
            "Best F-Score=0.725, Precision=0.666, Recall=0.796, roc auc score=0.959\n",
            "Best F-Score=0.738, Precision=0.746, Recall=0.731, roc auc score=0.958\n"
          ],
          "name": "stdout"
        }
      ]
    },
    {
      "cell_type": "markdown",
      "metadata": {
        "id": "cf5PAR-Ss8QK"
      },
      "source": [
        "Получается более выигрышно смотрится модель, обученная на эмбедингах полученных исходя из максимального отнашения к темам, прочитанных документов(статей). Можно еще сказать исходя из максимальных коэффициентов отношения прочитанных документов к темам."
      ]
    },
    {
      "cell_type": "markdown",
      "metadata": {
        "id": "ahyH1iav1G_H"
      },
      "source": [
        ""
      ]
    }
  ]
}